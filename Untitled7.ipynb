{
 "cells": [
  {
   "cell_type": "markdown",
   "id": "23056392",
   "metadata": {},
   "source": [
    "# Importing Libraries"
   ]
  },
  {
   "cell_type": "code",
   "execution_count": 4,
   "id": "f7369496",
   "metadata": {},
   "outputs": [],
   "source": [
    "import pandas as pd \n",
    "import numpy as np\n",
    "import matplotlib.pyplot as plt\n",
    "from sklearn.cluster import KMeans"
   ]
  },
  {
   "cell_type": "markdown",
   "id": "be541386",
   "metadata": {},
   "source": [
    "# Extracting Dataset"
   ]
  },
  {
   "cell_type": "code",
   "execution_count": 5,
   "id": "062b5472",
   "metadata": {},
   "outputs": [
    {
     "name": "stdout",
     "output_type": "stream",
     "text": [
      "[[ 15  39]\n",
      " [ 15  81]\n",
      " [ 16   6]\n",
      " [ 16  77]\n",
      " [ 17  40]\n",
      " [ 17  76]\n",
      " [ 18   6]\n",
      " [ 18  94]\n",
      " [ 19   3]\n",
      " [ 19  72]\n",
      " [ 19  14]\n",
      " [ 19  99]\n",
      " [ 20  15]\n",
      " [ 20  77]\n",
      " [ 20  13]\n",
      " [ 20  79]\n",
      " [ 21  35]\n",
      " [ 21  66]\n",
      " [ 23  29]\n",
      " [ 23  98]\n",
      " [ 24  35]\n",
      " [ 24  73]\n",
      " [ 25   5]\n",
      " [ 25  73]\n",
      " [ 28  14]\n",
      " [ 28  82]\n",
      " [ 28  32]\n",
      " [ 28  61]\n",
      " [ 29  31]\n",
      " [ 29  87]\n",
      " [ 30   4]\n",
      " [ 30  73]\n",
      " [ 33   4]\n",
      " [ 33  92]\n",
      " [ 33  14]\n",
      " [ 33  81]\n",
      " [ 34  17]\n",
      " [ 34  73]\n",
      " [ 37  26]\n",
      " [ 37  75]\n",
      " [ 38  35]\n",
      " [ 38  92]\n",
      " [ 39  36]\n",
      " [ 39  61]\n",
      " [ 39  28]\n",
      " [ 39  65]\n",
      " [ 40  55]\n",
      " [ 40  47]\n",
      " [ 40  42]\n",
      " [ 40  42]\n",
      " [ 42  52]\n",
      " [ 42  60]\n",
      " [ 43  54]\n",
      " [ 43  60]\n",
      " [ 43  45]\n",
      " [ 43  41]\n",
      " [ 44  50]\n",
      " [ 44  46]\n",
      " [ 46  51]\n",
      " [ 46  46]\n",
      " [ 46  56]\n",
      " [ 46  55]\n",
      " [ 47  52]\n",
      " [ 47  59]\n",
      " [ 48  51]\n",
      " [ 48  59]\n",
      " [ 48  50]\n",
      " [ 48  48]\n",
      " [ 48  59]\n",
      " [ 48  47]\n",
      " [ 49  55]\n",
      " [ 49  42]\n",
      " [ 50  49]\n",
      " [ 50  56]\n",
      " [ 54  47]\n",
      " [ 54  54]\n",
      " [ 54  53]\n",
      " [ 54  48]\n",
      " [ 54  52]\n",
      " [ 54  42]\n",
      " [ 54  51]\n",
      " [ 54  55]\n",
      " [ 54  41]\n",
      " [ 54  44]\n",
      " [ 54  57]\n",
      " [ 54  46]\n",
      " [ 57  58]\n",
      " [ 57  55]\n",
      " [ 58  60]\n",
      " [ 58  46]\n",
      " [ 59  55]\n",
      " [ 59  41]\n",
      " [ 60  49]\n",
      " [ 60  40]\n",
      " [ 60  42]\n",
      " [ 60  52]\n",
      " [ 60  47]\n",
      " [ 60  50]\n",
      " [ 61  42]\n",
      " [ 61  49]\n",
      " [ 62  41]\n",
      " [ 62  48]\n",
      " [ 62  59]\n",
      " [ 62  55]\n",
      " [ 62  56]\n",
      " [ 62  42]\n",
      " [ 63  50]\n",
      " [ 63  46]\n",
      " [ 63  43]\n",
      " [ 63  48]\n",
      " [ 63  52]\n",
      " [ 63  54]\n",
      " [ 64  42]\n",
      " [ 64  46]\n",
      " [ 65  48]\n",
      " [ 65  50]\n",
      " [ 65  43]\n",
      " [ 65  59]\n",
      " [ 67  43]\n",
      " [ 67  57]\n",
      " [ 67  56]\n",
      " [ 67  40]\n",
      " [ 69  58]\n",
      " [ 69  91]\n",
      " [ 70  29]\n",
      " [ 70  77]\n",
      " [ 71  35]\n",
      " [ 71  95]\n",
      " [ 71  11]\n",
      " [ 71  75]\n",
      " [ 71   9]\n",
      " [ 71  75]\n",
      " [ 72  34]\n",
      " [ 72  71]\n",
      " [ 73   5]\n",
      " [ 73  88]\n",
      " [ 73   7]\n",
      " [ 73  73]\n",
      " [ 74  10]\n",
      " [ 74  72]\n",
      " [ 75   5]\n",
      " [ 75  93]\n",
      " [ 76  40]\n",
      " [ 76  87]\n",
      " [ 77  12]\n",
      " [ 77  97]\n",
      " [ 77  36]\n",
      " [ 77  74]\n",
      " [ 78  22]\n",
      " [ 78  90]\n",
      " [ 78  17]\n",
      " [ 78  88]\n",
      " [ 78  20]\n",
      " [ 78  76]\n",
      " [ 78  16]\n",
      " [ 78  89]\n",
      " [ 78   1]\n",
      " [ 78  78]\n",
      " [ 78   1]\n",
      " [ 78  73]\n",
      " [ 79  35]\n",
      " [ 79  83]\n",
      " [ 81   5]\n",
      " [ 81  93]\n",
      " [ 85  26]\n",
      " [ 85  75]\n",
      " [ 86  20]\n",
      " [ 86  95]\n",
      " [ 87  27]\n",
      " [ 87  63]\n",
      " [ 87  13]\n",
      " [ 87  75]\n",
      " [ 87  10]\n",
      " [ 87  92]\n",
      " [ 88  13]\n",
      " [ 88  86]\n",
      " [ 88  15]\n",
      " [ 88  69]\n",
      " [ 93  14]\n",
      " [ 93  90]\n",
      " [ 97  32]\n",
      " [ 97  86]\n",
      " [ 98  15]\n",
      " [ 98  88]\n",
      " [ 99  39]\n",
      " [ 99  97]\n",
      " [101  24]\n",
      " [101  68]\n",
      " [103  17]\n",
      " [103  85]\n",
      " [103  23]\n",
      " [103  69]\n",
      " [113   8]\n",
      " [113  91]\n",
      " [120  16]\n",
      " [120  79]\n",
      " [126  28]\n",
      " [126  74]\n",
      " [137  18]\n",
      " [137  83]]\n"
     ]
    }
   ],
   "source": [
    "df = pd.read_csv('Mall_Customers.csv')\n",
    "X = df.iloc[:, [3, 4]].values\n",
    "print(X)\n"
   ]
  },
  {
   "cell_type": "markdown",
   "id": "97738970",
   "metadata": {},
   "source": [
    "# Creating Plots"
   ]
  },
  {
   "cell_type": "code",
   "execution_count": 9,
   "id": "17766465",
   "metadata": {},
   "outputs": [
    {
     "data": {
      "text/plain": [
       "Text(0.5, 1.0, 'Income vs Spending')"
      ]
     },
     "execution_count": 9,
     "metadata": {},
     "output_type": "execute_result"
    },
    {
     "data": {
      "image/png": "[encoded data removed]",
      "text/plain": [
       "<Figure size 640x480 with 1 Axes>"
      ]
     },
     "metadata": {},
     "output_type": "display_data"
    }
   ],
   "source": [
    "plt.scatter(X[:, 0], X[:, 1])\n",
    "plt.title('Income vs Spending')"
   ]
  },
  {
   "cell_type": "markdown",
   "id": "87577062",
   "metadata": {},
   "source": [
    "# Predicting The Model"
   ]
  },
  {
   "cell_type": "code",
   "execution_count": 10,
   "id": "3a443e7d",
   "metadata": {},
   "outputs": [
    {
     "name": "stderr",
     "output_type": "stream",
     "text": [
      "C:\\ProgramData\\anaconda3\\Lib\\site-packages\\sklearn\\cluster\\_kmeans.py:1412: FutureWarning: The default value of `n_init` will change from 10 to 'auto' in 1.4. Set the value of `n_init` explicitly to suppress the warning\n",
      "  super()._check_params_vs_input(X, default_n_init=10)\n",
      "C:\\ProgramData\\anaconda3\\Lib\\site-packages\\sklearn\\cluster\\_kmeans.py:1436: UserWarning: KMeans is known to have a memory leak on Windows with MKL, when there are less chunks than available threads. You can avoid it by setting the environment variable OMP_NUM_THREADS=1.\n",
      "  warnings.warn(\n"
     ]
    },
    {
     "data": {
      "text/plain": [
       "array([4, 3, 4, 3, 4, 3, 4, 3, 4, 3, 4, 3, 4, 3, 4, 3, 4, 3, 4, 3, 4, 3,\n",
       "       4, 3, 4, 3, 4, 3, 4, 3, 4, 3, 4, 3, 4, 3, 4, 3, 4, 3, 4, 3, 4, 0,\n",
       "       4, 3, 0, 0, 0, 0, 0, 0, 0, 0, 0, 0, 0, 0, 0, 0, 0, 0, 0, 0, 0, 0,\n",
       "       0, 0, 0, 0, 0, 0, 0, 0, 0, 0, 0, 0, 0, 0, 0, 0, 0, 0, 0, 0, 0, 0,\n",
       "       0, 0, 0, 0, 0, 0, 0, 0, 0, 0, 0, 0, 0, 0, 0, 0, 0, 0, 0, 0, 0, 0,\n",
       "       0, 0, 0, 0, 0, 0, 0, 0, 0, 0, 0, 0, 0, 1, 2, 1, 0, 1, 2, 1, 2, 1,\n",
       "       0, 1, 2, 1, 2, 1, 2, 1, 2, 1, 0, 1, 2, 1, 2, 1, 2, 1, 2, 1, 2, 1,\n",
       "       2, 1, 2, 1, 2, 1, 2, 1, 2, 1, 2, 1, 2, 1, 2, 1, 2, 1, 2, 1, 2, 1,\n",
       "       2, 1, 2, 1, 2, 1, 2, 1, 2, 1, 2, 1, 2, 1, 2, 1, 2, 1, 2, 1, 2, 1,\n",
       "       2, 1])"
      ]
     },
     "execution_count": 10,
     "metadata": {},
     "output_type": "execute_result"
    }
   ],
   "source": [
    "km = KMeans(n_clusters = 5)\n",
    "y_pred = km.fit_predict(X)\n",
    "y_pred"
   ]
  },
  {
   "cell_type": "markdown",
   "id": "5e58c684",
   "metadata": {},
   "source": [
    "# Assigning Clusters To Original Values"
   ]
  },
  {
   "cell_type": "code",
   "execution_count": 13,
   "id": "1cbc2647",
   "metadata": {},
   "outputs": [
    {
     "data": {
      "text/plain": [
       "array([[ 15,  39,   4],\n",
       "       [ 15,  81,   3],\n",
       "       [ 16,   6,   4],\n",
       "       [ 16,  77,   3],\n",
       "       [ 17,  40,   4],\n",
       "       [ 17,  76,   3],\n",
       "       [ 18,   6,   4],\n",
       "       [ 18,  94,   3],\n",
       "       [ 19,   3,   4],\n",
       "       [ 19,  72,   3],\n",
       "       [ 19,  14,   4],\n",
       "       [ 19,  99,   3],\n",
       "       [ 20,  15,   4],\n",
       "       [ 20,  77,   3],\n",
       "       [ 20,  13,   4],\n",
       "       [ 20,  79,   3],\n",
       "       [ 21,  35,   4],\n",
       "       [ 21,  66,   3],\n",
       "       [ 23,  29,   4],\n",
       "       [ 23,  98,   3],\n",
       "       [ 24,  35,   4],\n",
       "       [ 24,  73,   3],\n",
       "       [ 25,   5,   4],\n",
       "       [ 25,  73,   3],\n",
       "       [ 28,  14,   4],\n",
       "       [ 28,  82,   3],\n",
       "       [ 28,  32,   4],\n",
       "       [ 28,  61,   3],\n",
       "       [ 29,  31,   4],\n",
       "       [ 29,  87,   3],\n",
       "       [ 30,   4,   4],\n",
       "       [ 30,  73,   3],\n",
       "       [ 33,   4,   4],\n",
       "       [ 33,  92,   3],\n",
       "       [ 33,  14,   4],\n",
       "       [ 33,  81,   3],\n",
       "       [ 34,  17,   4],\n",
       "       [ 34,  73,   3],\n",
       "       [ 37,  26,   4],\n",
       "       [ 37,  75,   3],\n",
       "       [ 38,  35,   4],\n",
       "       [ 38,  92,   3],\n",
       "       [ 39,  36,   4],\n",
       "       [ 39,  61,   0],\n",
       "       [ 39,  28,   4],\n",
       "       [ 39,  65,   3],\n",
       "       [ 40,  55,   0],\n",
       "       [ 40,  47,   0],\n",
       "       [ 40,  42,   0],\n",
       "       [ 40,  42,   0],\n",
       "       [ 42,  52,   0],\n",
       "       [ 42,  60,   0],\n",
       "       [ 43,  54,   0],\n",
       "       [ 43,  60,   0],\n",
       "       [ 43,  45,   0],\n",
       "       [ 43,  41,   0],\n",
       "       [ 44,  50,   0],\n",
       "       [ 44,  46,   0],\n",
       "       [ 46,  51,   0],\n",
       "       [ 46,  46,   0],\n",
       "       [ 46,  56,   0],\n",
       "       [ 46,  55,   0],\n",
       "       [ 47,  52,   0],\n",
       "       [ 47,  59,   0],\n",
       "       [ 48,  51,   0],\n",
       "       [ 48,  59,   0],\n",
       "       [ 48,  50,   0],\n",
       "       [ 48,  48,   0],\n",
       "       [ 48,  59,   0],\n",
       "       [ 48,  47,   0],\n",
       "       [ 49,  55,   0],\n",
       "       [ 49,  42,   0],\n",
       "       [ 50,  49,   0],\n",
       "       [ 50,  56,   0],\n",
       "       [ 54,  47,   0],\n",
       "       [ 54,  54,   0],\n",
       "       [ 54,  53,   0],\n",
       "       [ 54,  48,   0],\n",
       "       [ 54,  52,   0],\n",
       "       [ 54,  42,   0],\n",
       "       [ 54,  51,   0],\n",
       "       [ 54,  55,   0],\n",
       "       [ 54,  41,   0],\n",
       "       [ 54,  44,   0],\n",
       "       [ 54,  57,   0],\n",
       "       [ 54,  46,   0],\n",
       "       [ 57,  58,   0],\n",
       "       [ 57,  55,   0],\n",
       "       [ 58,  60,   0],\n",
       "       [ 58,  46,   0],\n",
       "       [ 59,  55,   0],\n",
       "       [ 59,  41,   0],\n",
       "       [ 60,  49,   0],\n",
       "       [ 60,  40,   0],\n",
       "       [ 60,  42,   0],\n",
       "       [ 60,  52,   0],\n",
       "       [ 60,  47,   0],\n",
       "       [ 60,  50,   0],\n",
       "       [ 61,  42,   0],\n",
       "       [ 61,  49,   0],\n",
       "       [ 62,  41,   0],\n",
       "       [ 62,  48,   0],\n",
       "       [ 62,  59,   0],\n",
       "       [ 62,  55,   0],\n",
       "       [ 62,  56,   0],\n",
       "       [ 62,  42,   0],\n",
       "       [ 63,  50,   0],\n",
       "       [ 63,  46,   0],\n",
       "       [ 63,  43,   0],\n",
       "       [ 63,  48,   0],\n",
       "       [ 63,  52,   0],\n",
       "       [ 63,  54,   0],\n",
       "       [ 64,  42,   0],\n",
       "       [ 64,  46,   0],\n",
       "       [ 65,  48,   0],\n",
       "       [ 65,  50,   0],\n",
       "       [ 65,  43,   0],\n",
       "       [ 65,  59,   0],\n",
       "       [ 67,  43,   0],\n",
       "       [ 67,  57,   0],\n",
       "       [ 67,  56,   0],\n",
       "       [ 67,  40,   0],\n",
       "       [ 69,  58,   0],\n",
       "       [ 69,  91,   1],\n",
       "       [ 70,  29,   2],\n",
       "       [ 70,  77,   1],\n",
       "       [ 71,  35,   0],\n",
       "       [ 71,  95,   1],\n",
       "       [ 71,  11,   2],\n",
       "       [ 71,  75,   1],\n",
       "       [ 71,   9,   2],\n",
       "       [ 71,  75,   1],\n",
       "       [ 72,  34,   0],\n",
       "       [ 72,  71,   1],\n",
       "       [ 73,   5,   2],\n",
       "       [ 73,  88,   1],\n",
       "       [ 73,   7,   2],\n",
       "       [ 73,  73,   1],\n",
       "       [ 74,  10,   2],\n",
       "       [ 74,  72,   1],\n",
       "       [ 75,   5,   2],\n",
       "       [ 75,  93,   1],\n",
       "       [ 76,  40,   0],\n",
       "       [ 76,  87,   1],\n",
       "       [ 77,  12,   2],\n",
       "       [ 77,  97,   1],\n",
       "       [ 77,  36,   2],\n",
       "       [ 77,  74,   1],\n",
       "       [ 78,  22,   2],\n",
       "       [ 78,  90,   1],\n",
       "       [ 78,  17,   2],\n",
       "       [ 78,  88,   1],\n",
       "       [ 78,  20,   2],\n",
       "       [ 78,  76,   1],\n",
       "       [ 78,  16,   2],\n",
       "       [ 78,  89,   1],\n",
       "       [ 78,   1,   2],\n",
       "       [ 78,  78,   1],\n",
       "       [ 78,   1,   2],\n",
       "       [ 78,  73,   1],\n",
       "       [ 79,  35,   2],\n",
       "       [ 79,  83,   1],\n",
       "       [ 81,   5,   2],\n",
       "       [ 81,  93,   1],\n",
       "       [ 85,  26,   2],\n",
       "       [ 85,  75,   1],\n",
       "       [ 86,  20,   2],\n",
       "       [ 86,  95,   1],\n",
       "       [ 87,  27,   2],\n",
       "       [ 87,  63,   1],\n",
       "       [ 87,  13,   2],\n",
       "       [ 87,  75,   1],\n",
       "       [ 87,  10,   2],\n",
       "       [ 87,  92,   1],\n",
       "       [ 88,  13,   2],\n",
       "       [ 88,  86,   1],\n",
       "       [ 88,  15,   2],\n",
       "       [ 88,  69,   1],\n",
       "       [ 93,  14,   2],\n",
       "       [ 93,  90,   1],\n",
       "       [ 97,  32,   2],\n",
       "       [ 97,  86,   1],\n",
       "       [ 98,  15,   2],\n",
       "       [ 98,  88,   1],\n",
       "       [ 99,  39,   2],\n",
       "       [ 99,  97,   1],\n",
       "       [101,  24,   2],\n",
       "       [101,  68,   1],\n",
       "       [103,  17,   2],\n",
       "       [103,  85,   1],\n",
       "       [103,  23,   2],\n",
       "       [103,  69,   1],\n",
       "       [113,   8,   2],\n",
       "       [113,  91,   1],\n",
       "       [120,  16,   2],\n",
       "       [120,  79,   1],\n",
       "       [126,  28,   2],\n",
       "       [126,  74,   1],\n",
       "       [137,  18,   2],\n",
       "       [137,  83,   1]], dtype=int64)"
      ]
     },
     "execution_count": 13,
     "metadata": {},
     "output_type": "execute_result"
    }
   ],
   "source": [
    "x = np.column_stack((X, y_pred))\n",
    "x"
   ]
  },
  {
   "cell_type": "markdown",
   "id": "8170b8be",
   "metadata": {},
   "source": [
    "# Center Of Clusters"
   ]
  },
  {
   "cell_type": "code",
   "execution_count": 15,
   "id": "568556c4",
   "metadata": {},
   "outputs": [
    {
     "data": {
      "text/plain": [
       "array([[55.2962963 , 49.51851852],\n",
       "       [86.53846154, 82.12820513],\n",
       "       [88.2       , 17.11428571],\n",
       "       [25.72727273, 79.36363636],\n",
       "       [26.30434783, 20.91304348]])"
      ]
     },
     "execution_count": 15,
     "metadata": {},
     "output_type": "execute_result"
    }
   ],
   "source": [
    "km.cluster_centers_"
   ]
  },
  {
   "cell_type": "markdown",
   "id": "1b85db30",
   "metadata": {},
   "source": [
    "# Seperating Clusters By Visualisation"
   ]
  },
  {
   "cell_type": "code",
   "execution_count": 26,
   "id": "7d8bb259",
   "metadata": {},
   "outputs": [
    {
     "data": {
      "text/plain": [
       "<matplotlib.legend.Legend at 0x1ab7901bad0>"
      ]
     },
     "execution_count": 26,
     "metadata": {},
     "output_type": "execute_result"
    },
    {
     "data": {
      "image/png": "[encoded data removed]",
      "text/plain": [
       "<Figure size 640x480 with 1 Axes>"
      ]
     },
     "metadata": {},
     "output_type": "display_data"
    }
   ],
   "source": [
    "x1 = x[x[:,2]==0]\n",
    "x2 = x[x[:,2]==1]\n",
    "x3 = x[x[:,2]==2]\n",
    "x4 = x[x[:,2]==3]\n",
    "x5 = x[x[:,2]==4]\n",
    "\n",
    "plt.scatter(x1[:,0],x1[:,1], color= 'green', label = 'Cluster1')\n",
    "plt.scatter(x2[:,0],x2[:,1], color= 'red', label = 'Cluster2')\n",
    "plt.scatter(x3[:,0],x3[:,1], color= 'blue', label = 'Cluster3')\n",
    "plt.scatter(x4[:,0],x4[:,1], color= 'yellow', label = 'Cluster4')\n",
    "plt.scatter(x5[:,0],x5[:,1], color= 'black', label = 'Cluster5')\n",
    "plt.scatter(km.cluster_centers_[:,0], km.cluster_centers_[:,1], s =100, marker= '*', color = 'purple', label = 'Centroids')\n",
    "\n",
    "plt.xlabel('Annual Income')\n",
    "plt.ylabel('Spending Score (1-100)')\n",
    "plt.legend()"
   ]
  },
  {
   "cell_type": "markdown",
   "id": "f27e200d",
   "metadata": {},
   "source": [
    "# Checking For Number Of squared Errors"
   ]
  },
  {
   "cell_type": "code",
   "execution_count": 28,
   "id": "ec0c6132",
   "metadata": {},
   "outputs": [
    {
     "name": "stderr",
     "output_type": "stream",
     "text": [
      "C:\\ProgramData\\anaconda3\\Lib\\site-packages\\sklearn\\cluster\\_kmeans.py:1412: FutureWarning: The default value of `n_init` will change from 10 to 'auto' in 1.4. Set the value of `n_init` explicitly to suppress the warning\n",
      "  super()._check_params_vs_input(X, default_n_init=10)\n",
      "C:\\ProgramData\\anaconda3\\Lib\\site-packages\\sklearn\\cluster\\_kmeans.py:1436: UserWarning: KMeans is known to have a memory leak on Windows with MKL, when there are less chunks than available threads. You can avoid it by setting the environment variable OMP_NUM_THREADS=1.\n",
      "  warnings.warn(\n"
     ]
    },
    {
     "name": "stdout",
     "output_type": "stream",
     "text": [
      "[269981.28]\n"
     ]
    },
    {
     "name": "stderr",
     "output_type": "stream",
     "text": [
      "C:\\ProgramData\\anaconda3\\Lib\\site-packages\\sklearn\\cluster\\_kmeans.py:1412: FutureWarning: The default value of `n_init` will change from 10 to 'auto' in 1.4. Set the value of `n_init` explicitly to suppress the warning\n",
      "  super()._check_params_vs_input(X, default_n_init=10)\n",
      "C:\\ProgramData\\anaconda3\\Lib\\site-packages\\sklearn\\cluster\\_kmeans.py:1436: UserWarning: KMeans is known to have a memory leak on Windows with MKL, when there are less chunks than available threads. You can avoid it by setting the environment variable OMP_NUM_THREADS=1.\n",
      "  warnings.warn(\n"
     ]
    },
    {
     "name": "stdout",
     "output_type": "stream",
     "text": [
      "[269981.28, 181363.59595959596]\n"
     ]
    },
    {
     "name": "stderr",
     "output_type": "stream",
     "text": [
      "C:\\ProgramData\\anaconda3\\Lib\\site-packages\\sklearn\\cluster\\_kmeans.py:1412: FutureWarning: The default value of `n_init` will change from 10 to 'auto' in 1.4. Set the value of `n_init` explicitly to suppress the warning\n",
      "  super()._check_params_vs_input(X, default_n_init=10)\n",
      "C:\\ProgramData\\anaconda3\\Lib\\site-packages\\sklearn\\cluster\\_kmeans.py:1436: UserWarning: KMeans is known to have a memory leak on Windows with MKL, when there are less chunks than available threads. You can avoid it by setting the environment variable OMP_NUM_THREADS=1.\n",
      "  warnings.warn(\n"
     ]
    },
    {
     "name": "stdout",
     "output_type": "stream",
     "text": [
      "[269981.28, 181363.59595959596, 106348.37306211119]\n"
     ]
    },
    {
     "name": "stderr",
     "output_type": "stream",
     "text": [
      "C:\\ProgramData\\anaconda3\\Lib\\site-packages\\sklearn\\cluster\\_kmeans.py:1412: FutureWarning: The default value of `n_init` will change from 10 to 'auto' in 1.4. Set the value of `n_init` explicitly to suppress the warning\n",
      "  super()._check_params_vs_input(X, default_n_init=10)\n",
      "C:\\ProgramData\\anaconda3\\Lib\\site-packages\\sklearn\\cluster\\_kmeans.py:1436: UserWarning: KMeans is known to have a memory leak on Windows with MKL, when there are less chunks than available threads. You can avoid it by setting the environment variable OMP_NUM_THREADS=1.\n",
      "  warnings.warn(\n"
     ]
    },
    {
     "name": "stdout",
     "output_type": "stream",
     "text": [
      "[269981.28, 181363.59595959596, 106348.37306211119, 73679.78903948834]\n"
     ]
    },
    {
     "name": "stderr",
     "output_type": "stream",
     "text": [
      "C:\\ProgramData\\anaconda3\\Lib\\site-packages\\sklearn\\cluster\\_kmeans.py:1412: FutureWarning: The default value of `n_init` will change from 10 to 'auto' in 1.4. Set the value of `n_init` explicitly to suppress the warning\n",
      "  super()._check_params_vs_input(X, default_n_init=10)\n",
      "C:\\ProgramData\\anaconda3\\Lib\\site-packages\\sklearn\\cluster\\_kmeans.py:1436: UserWarning: KMeans is known to have a memory leak on Windows with MKL, when there are less chunks than available threads. You can avoid it by setting the environment variable OMP_NUM_THREADS=1.\n",
      "  warnings.warn(\n"
     ]
    },
    {
     "name": "stdout",
     "output_type": "stream",
     "text": [
      "[269981.28, 181363.59595959596, 106348.37306211119, 73679.78903948834, 44448.45544793371]\n"
     ]
    },
    {
     "name": "stderr",
     "output_type": "stream",
     "text": [
      "C:\\ProgramData\\anaconda3\\Lib\\site-packages\\sklearn\\cluster\\_kmeans.py:1412: FutureWarning: The default value of `n_init` will change from 10 to 'auto' in 1.4. Set the value of `n_init` explicitly to suppress the warning\n",
      "  super()._check_params_vs_input(X, default_n_init=10)\n",
      "C:\\ProgramData\\anaconda3\\Lib\\site-packages\\sklearn\\cluster\\_kmeans.py:1436: UserWarning: KMeans is known to have a memory leak on Windows with MKL, when there are less chunks than available threads. You can avoid it by setting the environment variable OMP_NUM_THREADS=1.\n",
      "  warnings.warn(\n"
     ]
    },
    {
     "name": "stdout",
     "output_type": "stream",
     "text": [
      "[269981.28, 181363.59595959596, 106348.37306211119, 73679.78903948834, 44448.45544793371, 37233.81451071001]\n"
     ]
    },
    {
     "name": "stderr",
     "output_type": "stream",
     "text": [
      "C:\\ProgramData\\anaconda3\\Lib\\site-packages\\sklearn\\cluster\\_kmeans.py:1412: FutureWarning: The default value of `n_init` will change from 10 to 'auto' in 1.4. Set the value of `n_init` explicitly to suppress the warning\n",
      "  super()._check_params_vs_input(X, default_n_init=10)\n",
      "C:\\ProgramData\\anaconda3\\Lib\\site-packages\\sklearn\\cluster\\_kmeans.py:1436: UserWarning: KMeans is known to have a memory leak on Windows with MKL, when there are less chunks than available threads. You can avoid it by setting the environment variable OMP_NUM_THREADS=1.\n",
      "  warnings.warn(\n"
     ]
    },
    {
     "name": "stdout",
     "output_type": "stream",
     "text": [
      "[269981.28, 181363.59595959596, 106348.37306211119, 73679.78903948834, 44448.45544793371, 37233.81451071001, 30241.343617936585]\n"
     ]
    },
    {
     "name": "stderr",
     "output_type": "stream",
     "text": [
      "C:\\ProgramData\\anaconda3\\Lib\\site-packages\\sklearn\\cluster\\_kmeans.py:1412: FutureWarning: The default value of `n_init` will change from 10 to 'auto' in 1.4. Set the value of `n_init` explicitly to suppress the warning\n",
      "  super()._check_params_vs_input(X, default_n_init=10)\n",
      "C:\\ProgramData\\anaconda3\\Lib\\site-packages\\sklearn\\cluster\\_kmeans.py:1436: UserWarning: KMeans is known to have a memory leak on Windows with MKL, when there are less chunks than available threads. You can avoid it by setting the environment variable OMP_NUM_THREADS=1.\n",
      "  warnings.warn(\n"
     ]
    },
    {
     "name": "stdout",
     "output_type": "stream",
     "text": [
      "[269981.28, 181363.59595959596, 106348.37306211119, 73679.78903948834, 44448.45544793371, 37233.81451071001, 30241.343617936585, 25036.417604033984]\n"
     ]
    },
    {
     "name": "stderr",
     "output_type": "stream",
     "text": [
      "C:\\ProgramData\\anaconda3\\Lib\\site-packages\\sklearn\\cluster\\_kmeans.py:1412: FutureWarning: The default value of `n_init` will change from 10 to 'auto' in 1.4. Set the value of `n_init` explicitly to suppress the warning\n",
      "  super()._check_params_vs_input(X, default_n_init=10)\n",
      "C:\\ProgramData\\anaconda3\\Lib\\site-packages\\sklearn\\cluster\\_kmeans.py:1436: UserWarning: KMeans is known to have a memory leak on Windows with MKL, when there are less chunks than available threads. You can avoid it by setting the environment variable OMP_NUM_THREADS=1.\n",
      "  warnings.warn(\n"
     ]
    },
    {
     "name": "stdout",
     "output_type": "stream",
     "text": [
      "[269981.28, 181363.59595959596, 106348.37306211119, 73679.78903948834, 44448.45544793371, 37233.81451071001, 30241.343617936585, 25036.417604033984, 21916.794789843727]\n"
     ]
    },
    {
     "name": "stderr",
     "output_type": "stream",
     "text": [
      "C:\\ProgramData\\anaconda3\\Lib\\site-packages\\sklearn\\cluster\\_kmeans.py:1412: FutureWarning: The default value of `n_init` will change from 10 to 'auto' in 1.4. Set the value of `n_init` explicitly to suppress the warning\n",
      "  super()._check_params_vs_input(X, default_n_init=10)\n",
      "C:\\ProgramData\\anaconda3\\Lib\\site-packages\\sklearn\\cluster\\_kmeans.py:1436: UserWarning: KMeans is known to have a memory leak on Windows with MKL, when there are less chunks than available threads. You can avoid it by setting the environment variable OMP_NUM_THREADS=1.\n",
      "  warnings.warn(\n"
     ]
    },
    {
     "name": "stdout",
     "output_type": "stream",
     "text": [
      "[269981.28, 181363.59595959596, 106348.37306211119, 73679.78903948834, 44448.45544793371, 37233.81451071001, 30241.343617936585, 25036.417604033984, 21916.794789843727, 20072.07093940401]\n"
     ]
    }
   ],
   "source": [
    "sse = []\n",
    "for i in range(1, 11):\n",
    "    km = KMeans(n_clusters = i, init = 'k-means++', random_state = 42)\n",
    "    km.fit(X)\n",
    "    sse.append(km.inertia_)\n",
    "    print(sse)"
   ]
  },
  {
   "cell_type": "markdown",
   "id": "c3133cdc",
   "metadata": {},
   "source": [
    "# Plotting in Elbow"
   ]
  },
  {
   "cell_type": "code",
   "execution_count": 29,
   "id": "0155024d",
   "metadata": {},
   "outputs": [
    {
     "data": {
      "image/png": "[encoded data removed]",
      "text/plain": [
       "<Figure size 640x480 with 1 Axes>"
      ]
     },
     "metadata": {},
     "output_type": "display_data"
    }
   ],
   "source": [
    "plt.plot(range(1, 11), sse)\n",
    "plt.title('Elbow Method')\n",
    "plt.xlabel('Number Of Clusters')\n",
    "plt.ylabel('Sum Of Squared Error')\n",
    "plt.show()"
   ]
  },
  {
   "cell_type": "code",
   "execution_count": null,
   "id": "951f6181",
   "metadata": {},
   "outputs": [],
   "source": []
  }
 ],
 "metadata": {
  "kernelspec": {
   "display_name": "Python 3 (ipykernel)",
   "language": "python",
   "name": "python3"
  },
  "language_info": {
   "codemirror_mode": {
    "name": "ipython",
    "version": 3
   },
   "file_extension": ".py",
   "mimetype": "text/x-python",
   "name": "python",
   "nbconvert_exporter": "python",
   "pygments_lexer": "ipython3",
   "version": "3.11.5"
  }
 },
 "nbformat": 4,
 "nbformat_minor": 5
}
